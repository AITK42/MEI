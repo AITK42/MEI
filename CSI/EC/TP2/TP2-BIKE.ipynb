{
 "cells": [
  {
   "cell_type": "markdown",
   "id": "0f7ea7cb",
   "metadata": {},
   "source": [
    "# Trabalho prático 2 - Estruturas Criptográficas"
   ]
  },
  {
   "cell_type": "markdown",
   "id": "b2df431f",
   "metadata": {},
   "source": [
    "#### Autores: Ariana Lousada (PG47034), Cláudio Moreira (PG47844)\n",
    "#### Grupo  12"
   ]
  },
  {
   "cell_type": "markdown",
   "id": "c1971c03",
   "metadata": {},
   "source": [
    "## BIKE"
   ]
  },
  {
   "cell_type": "markdown",
   "id": "8e0a88d6",
   "metadata": {},
   "source": [
    "##### KEM-IND-CPA"
   ]
  },
  {
   "cell_type": "markdown",
   "id": "e478fc91",
   "metadata": {},
   "source": [
    "Para o desenvolvimento da solução para esta questão, foi proposta a implementação de um KEM IND-CPA seguro e um PKE IND-CCA seguro. Neste documento é exposta uma proposta de solução para o KEM IND-CPA.\n",
    "\n",
    "Para a construção desta solução foi consultado o ficheiro pdf mais recente da implementação do BIKE(https://bikesuite.org/files/v4.2/BIKE_Spec.2021.09.29.1.pdf).\n"
   ]
  },
  {
   "cell_type": "markdown",
   "id": "723fabd6",
   "metadata": {},
   "source": [
    "Começou-se pela definição das constantes do BIKE:\n",
    "   - ***r*** : tamanho de cada bloco. De acordo com a especificação mais recente, este valor corresponde a 257\n",
    "   - ***n*** : conde lenght. Corresponde ao dobro do tamanho de cada bloco. Neste caso corresponde a 514.\n",
    "   - ***t*** : error weight, que corresponde a 16\n",
    "   - ***l*** : tamanho do segredo partilhado. De acordo com a especificação do BIKE mais recente, este valor corresponde a 256."
   ]
  },
  {
   "cell_type": "markdown",
   "id": "7db9db26",
   "metadata": {},
   "source": [
    "De seguida definiram-se as funções H, K e L:\n",
    "  - ***H*** : definida com base no SHAKE256\n",
    "  - ***K_func*** : definida com base no SHA384\n",
    "  - ***L*** : definida com base no SHA384"
   ]
  },
  {
   "cell_type": "markdown",
   "id": "a7bf584d",
   "metadata": {},
   "source": [
    "Por fim construíram-se as três principais funções de geração do par de chaves, encapsulamento e desencapsulamento:\n",
    "  - ***keyGenerator*** : função responsável pela criação do par de chaves pública e privada. A variável *h* corresponde à chave pública, enquanto que a chave privada é divida por duas partes: a primeira é constituída por *h0* e *h1* e a segunda constituída pela variável *sigma*, que é calculada a partir da função auxiliar *gerabits*;\n",
    "  - ***encap*** : função responsável pelo encapsulamento de uma dada chave. Recorre às funções H e K do BIKE e à chave pública gerada pela função anterior.\n",
    "  - ***decap*** : função responsável pelo desencapsulamento de uma dada chave. Recorre a ambas as partes da chave privada gerada pela função *keyGenerator* anteriormente mencionada."
   ]
  },
  {
   "cell_type": "code",
   "execution_count": 20,
   "id": "f7e2da2b",
   "metadata": {},
   "outputs": [],
   "source": [
    "# imports necessários para a implementação\n",
    "import random as rn\n",
    "from cryptography.hazmat.primitives import hashes\n",
    "import os\n",
    "from cryptography.hazmat.primitives.ciphers import Cipher, algorithms, modes\n",
    "from Crypto.Hash.SHAKE256 import SHAKE256_XOF"
   ]
  },
  {
   "cell_type": "code",
   "execution_count": 21,
   "id": "506036bb",
   "metadata": {},
   "outputs": [],
   "source": [
    "# constantes BIKE\n",
    "r = 257           # block size\n",
    "n = 514           # code length (2*r)\n",
    "t = 16            # error weight\n",
    "l = 256           # shared secret size\n",
    "\n",
    "K = GF(2)\n",
    "um = K(1)\n",
    "zero = K(0)\n",
    "\n",
    "Vn  = VectorSpace(K,n)\n",
    "Vr  = VectorSpace(K,r)\n",
    "Vq  = VectorSpace(QQ,r)\n",
    "\n",
    "Mr  = MatrixSpace(K,n,r)\n",
    "\n",
    "R = PolynomialRing(K,name='w')\n",
    "w = R.gen()\n",
    "Rr = QuotientRing(R,R.ideal(w^r+1))\n",
    "\n",
    "def mask(u,v):\n",
    "    return u.pairwise_product(v)\n",
    "\n",
    "def hamm(u):\n",
    "    return sum([1 if a == um else 0 for a in u])\n",
    "\n",
    "# gera uma palavra de bit aleatória com tamanho recebido como parâmetro\n",
    "def geraBits(l):\n",
    "    bits = \"\"\n",
    "    for i in range(l):\n",
    "        bits = bits + str(rn.randint(0,1))\n",
    "    return bits\n",
    "\n",
    "# função que recorre ao SHAKE256\n",
    "def H(key, m):\n",
    "    digest = hashes.Hash(hashes.SHAKE256(int(l)))\n",
    "    digest.update(m)\n",
    "    r = digest.finalize()\n",
    "    return r\n",
    "\n",
    "# hash function que utiliza SHA384\n",
    "def K_func(m,C):\n",
    "    c0, c1 = C\n",
    "    digest = hashes.Hash(hashes.SHA384())\n",
    "    digest.update(m)\n",
    "    digest.update(c0)\n",
    "    digest.update(c1)\n",
    "    r = digest.finalize()\n",
    "    return r\n",
    "\n",
    "# hash function que utiliza SHA384\n",
    "def L(e0,e1):\n",
    "    digest = hashes.Hash(hashes.SHA384())\n",
    "    digest.update(e0)\n",
    "    digest.update(e1)\n",
    "    r = digest.finalize()\n",
    "    return r\n",
    "\n",
    "\n",
    "\n",
    "def rot(h):\n",
    "    v = Vr() ; v[0] = h[-1]\n",
    "    for i in range(r-1):\n",
    "        v[i+1] = h[i]\n",
    "    return v\n",
    "\n",
    "def Rot(h):\n",
    "    M = Matrix(K,r,r) ;M[0] = expand(h)\n",
    "    for i in range(1,r):\n",
    "        M[i] = rot(M[i-1])\n",
    "    return M\n",
    "\n",
    "def expand(f):\n",
    "    fl = f.list(); ex = r - len(fl)\n",
    "    return Vr(fl + [zero]*ex)\n",
    "\n",
    "def expand2(code):\n",
    "    (f0,f1) = code\n",
    "    f = expand(f0).list() + expand(f1).list()\n",
    "    return Vn(f)\n",
    "\n",
    "def unexpand2(vec):\n",
    "    u = vec.list()\n",
    "    return (Rr(u[:r]),Rr(u[r:]))\n",
    "\n",
    "\n",
    "# operação XOR entre duas sequências de bytes\n",
    "def bxor(a, b):\n",
    "    return bytes([ x^^y for (x,y) in zip(a, b)])\n",
    "\n",
    "# bit flip\n",
    "def BF(H,code,synd,cnt_iter=r, errs=0):\n",
    "    mycode = code\n",
    "    mysynd = synd\n",
    "    \n",
    "    while cnt_iter > 0 and hamm(mysynd) > errs:\n",
    "        cnt_iter   = cnt_iter - 1\n",
    "        \n",
    "        unsats     = [hamm(mask(mysynd,H[i])) for i in range(n)]\n",
    "        max_unsats = max(unsats)\n",
    "        \n",
    "        for i in range(n):\n",
    "            if unsats[i] == max_unsats:\n",
    "                mycode[i]  += um               ## bit-flip\n",
    "                mysynd     += H[i]\n",
    "    \n",
    "    return mycode\n",
    "\n",
    "\n",
    "def sparse_pol(sparse=3):\n",
    "    coeffs = [1]*sparse + [0]*(r-2-sparse)\n",
    "    rn.shuffle(coeffs)\n",
    "    return Rr([1]+coeffs+[1])\n",
    "\n",
    "# geração das chaves pública e privada\n",
    "def keyGenerator():\n",
    "    while True:\n",
    "        h0 = sparse_pol(); h1 = sparse_pol()\n",
    "        if h0 != h1 and h0.is_unit() and h1.is_unit(): # primeira parte da chave privada\n",
    "            break\n",
    "    h = h0 * h1.inverse_of_unit() # chave pública\n",
    "    sigma = geraBits(l) # segunda parte da chave privada\n",
    "    return h0,h1,sigma,h\n",
    "\n",
    "# encapsulamento\n",
    "def encap(h, key):\n",
    "    m = geraBits(32) \n",
    "    e = H(key, m.encode())\n",
    "    e0 = e[:16]\n",
    "    e1 = e[-16:]\n",
    "    c = (e0 + e1, bxor(m.encode(),L(e0,e1)) )\n",
    "    k = K_func(m.encode(),c)\n",
    "    return k,c\n",
    "\n",
    "# desencapsulamento\n",
    "def decap(h0, h1, sigma, C, key):\n",
    "    c0, c1 = C\n",
    "    cr = (Rr(list(c0)), Rr(list(c1)))\n",
    "    code = expand2(cr)\n",
    "    H_matrix = block_matrix(2,1,[Rot(h0),Rot(h1)])\n",
    "    synd = code * H_matrix\n",
    "    e = BF(H_matrix,code,synd)\n",
    "    (e0,e1) = unexpand2(e)  \n",
    "    m = bxor(c1, L(bytes(e0), bytes(e1)))\n",
    "    if bytes(e) == H(key,m):\n",
    "        k = K_func(m,C)\n",
    "    else:\n",
    "        k = K_func(sigma.encode(), C)\n",
    "    return k\n",
    "    \n"
   ]
  },
  {
   "cell_type": "code",
   "execution_count": 22,
   "id": "3f56a2be",
   "metadata": {},
   "outputs": [
    {
     "name": "stdout",
     "output_type": "stream",
     "text": [
      "Chave pública:  wbar^255 + wbar^254 + wbar^251 + wbar^250 + wbar^248 + wbar^247 + wbar^246 + wbar^242 + wbar^235 + wbar^233 + wbar^228 + wbar^227 + wbar^224 + wbar^222 + wbar^219 + wbar^218 + wbar^217 + wbar^212 + wbar^205 + wbar^204 + wbar^200 + wbar^199 + wbar^198 + wbar^197 + wbar^196 + wbar^195 + wbar^193 + wbar^192 + wbar^190 + wbar^189 + wbar^187 + wbar^186 + wbar^184 + wbar^182 + wbar^180 + wbar^177 + wbar^175 + wbar^174 + wbar^173 + wbar^172 + wbar^171 + wbar^169 + wbar^168 + wbar^167 + wbar^166 + wbar^165 + wbar^164 + wbar^162 + wbar^159 + wbar^158 + wbar^156 + wbar^155 + wbar^154 + wbar^152 + wbar^151 + wbar^149 + wbar^148 + wbar^147 + wbar^146 + wbar^145 + wbar^142 + wbar^141 + wbar^138 + wbar^134 + wbar^131 + wbar^128 + wbar^127 + wbar^126 + wbar^124 + wbar^121 + wbar^117 + wbar^114 + wbar^112 + wbar^110 + wbar^109 + wbar^107 + wbar^103 + wbar^100 + wbar^97 + wbar^96 + wbar^94 + wbar^93 + wbar^92 + wbar^90 + wbar^89 + wbar^87 + wbar^86 + wbar^83 + wbar^82 + wbar^81 + wbar^79 + wbar^78 + wbar^67 + wbar^63 + wbar^62 + wbar^59 + wbar^58 + wbar^52 + wbar^48 + wbar^47 + wbar^46 + wbar^45 + wbar^42 + wbar^40 + wbar^39 + wbar^38 + wbar^36 + wbar^33 + wbar^32 + wbar^30 + wbar^28 + wbar^27 + wbar^24 + wbar^20 + wbar^19 + wbar^18 + wbar^17 + wbar^13 + wbar^10 + wbar^9 + wbar^8 + wbar^7 + wbar^6 + wbar^4 + wbar^3 + wbar^2 + wbar \n",
      "\n",
      "Chave privada: h0= wbar^256 + wbar^240 + wbar^187 + wbar^164 + 1  h1= wbar^256 + wbar^164 + wbar^134 + wbar^123 + 1  sigma= 0010100011011010111110101000001110110001000101011011110010111010101100010011111011100000111001110000001000000010100011000010011010011011000110000011010111000110111100101101000100101100001110001000001100000000001111110101001110100101101011011100000001000100 \n",
      "\n",
      "Resultado do encapsulamento: k= b'\\x7fY\\x8b\\xdd\\xa0->\\x10\\x18E\\xfeB\\xb4\\xc6\\xba\\x81\\x8a7yy\\xf3\\xdaT!Cz\\x16\\x9bB\\xc8d\\x85T\\xa0\\xe8\\xb3A\\x87;\\xcb+\\xfe\\xb1\\xee\\x95\\x10\\x8c '  C= (b'\\x84\\xdf\\xbc\\n\\xbf\\xe8\\xd4\\x15\\x88\\xd1\\x96.\\x9d\\\\\\xb8X!6jJ4\\xb9\\xc0\\xd5\\xc1\\xcb\\x8f\\xed\\x1a\\xa2n2', b'\\xca\\x92\\x01\\xcb]\\xaf\\x1b\\x92\\x1dpY\\xe0\\xba\\xf6\\x86-Dh\\xa8\\xb4\\x96\\xa8\\x82* \\x93>yC\\xe2\\xf9(') \n",
      "\n",
      "Resultado do desencapsulamento: b'^(\\xcd\\x03\\xc6\\x0e\\x8d\\xe9Sf\\xfc\\xabuA\"\\x0c]\\xf0\\xab\\xcb\\xc8;\\x9e^\\xcf\\x1e\\xdb\\xc1\\xe4\\xf7\\x13\\x8bw\\xa2\\xe4\\x83\"\\xd5\\xcb_\\xb7\\x03\\xf3\\x12y\\'\\x1f\\x87'\n"
     ]
    }
   ],
   "source": [
    "key = os.urandom(32)\n",
    "h0, h1, sigma, h = keyGenerator()\n",
    "print(\"Chave pública: \", h, \"\\n\")\n",
    "print(\"Chave privada: h0=\", h0, \" h1=\", h1, \" sigma=\", sigma, \"\\n\")\n",
    "k, C = encap(h, key)\n",
    "print(\"Resultado do encapsulamento: k=\",k,\" C=\",C, \"\\n\")\n",
    "desencapsulation = decap(h0,h1,sigma,C, key)\n",
    "print(\"Resultado do desencapsulamento:\", desencapsulation)"
   ]
  }
 ],
 "metadata": {
  "kernelspec": {
   "display_name": "SageMath 9.5",
   "language": "sage",
   "name": "sagemath"
  },
  "language_info": {
   "codemirror_mode": {
    "name": "ipython",
    "version": 3
   },
   "file_extension": ".py",
   "mimetype": "text/x-python",
   "name": "python",
   "nbconvert_exporter": "python",
   "pygments_lexer": "ipython3",
   "version": "3.8.13"
  }
 },
 "nbformat": 4,
 "nbformat_minor": 5
}
