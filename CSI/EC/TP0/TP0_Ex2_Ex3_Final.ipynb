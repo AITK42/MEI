{
 "cells": [
  {
   "cell_type": "markdown",
   "id": "da8f6818-1ed5-4d69-91e8-df730d9dbc64",
   "metadata": {},
   "source": [
    "# Trabalho prático 0 - Estruturas Criptográficas"
   ]
  },
  {
   "cell_type": "markdown",
   "id": "765ae18f-2906-4a3e-b063-376618538ee4",
   "metadata": {},
   "source": [
    "#### Autores: Ariana Lousada (PG47034), Cláudio Moreira (PG47844)\n",
    "#### Grupo  12"
   ]
  },
  {
   "cell_type": "markdown",
   "id": "c14aa52c-3ac5-4646-b140-8943ac376c8e",
   "metadata": {},
   "source": [
    "## Problema 2"
   ]
  },
  {
   "cell_type": "markdown",
   "id": "18903d86-ae4f-45bf-a1c6-d6bffb37cec4",
   "metadata": {},
   "source": [
    "**2.a)** Começou-se por desenvolver um gerador pseudo-aleatório do tipo *XOF* através do *SHAKE-256* para gerar palavras de 64 bits. Para além disso, restringiu-se o tamanho das palavras a 2^n e armazenou-se as mesmas em *long integers*. Também se utilizou a *seed* do gerador como ***cypher_key*** e realizou-se uma autênticação do criptograma e dos dados associados atrvés do próprio *SHAKE256*.\n",
    "Para tal, utilizou-se a função ***generate*** que recebe uma seed e um parâmetro n e devolve uma lista de 2^n palavras aleatórias com 64 bytes."
   ]
  },
  {
   "cell_type": "code",
   "execution_count": 12,
   "id": "07b92200-5e6f-411c-b856-6ad0abd81c8d",
   "metadata": {},
   "outputs": [],
   "source": [
    "import os\n",
    "import timeit\n",
    "import string\n",
    "from cryptography.hazmat.primitives import hashes\n",
    "from cryptography.hazmat.primitives.kdf.pbkdf2 import PBKDF2HMAC"
   ]
  },
  {
   "cell_type": "markdown",
   "id": "d74e73fc-6686-43bf-92d8-e98daf3bc489",
   "metadata": {},
   "source": [
    "Começou-se por importar os modulos necessários para o desenvolvimento do exercício. Realizou-se uma importação de hashes criptográficas KDF2 para efetuarem uma derivação de uma ou mais chaves secretas através de uma função pseudo-aleatória e de uma *password*. \n",
    "\n",
    "De seguida, realizou-se a implementação da função ***generate***."
   ]
  },
  {
   "cell_type": "code",
   "execution_count": 2,
   "id": "42e38fda-5bc9-442c-bbd7-cedfc84fadb1",
   "metadata": {},
   "outputs": [],
   "source": [
    "\n",
    "def generator(seed, n):\n",
    "    i = 0\n",
    "    lista = []\n",
    "    digest = hashes.Hash(hashes.SHAKE256((2**n) * 8)) # calcula uma string com tamanho de 2^n *8 bytes (64 bits)\n",
    "    digest.update(seed) # bytes a ser hashed (seed)\n",
    "    p = digest.finalize()\n",
    "    while i < (2**n): # dividir a mensagem em blocos de 8 bytes\n",
    "        lista.append(p[:8])\n",
    "        p = p[8:]\n",
    "        i += 1\n",
    "    return lista\n",
    " \n",
    "\n",
    "def kdf2(password, salt, n):\n",
    "    kdf = PBKDF2HMAC(\n",
    "        algorithm=hashes.SHA256(),\n",
    "        length= (2 ** n) * 8,\n",
    "        salt=salt,\n",
    "        iterations=100000,\n",
    "    )\n",
    "    key = kdf.derive(password.encode('utf8'))\n",
    "    kdf = PBKDF2HMAC(\n",
    "        algorithm=hashes.SHA256(),\n",
    "        length= (2**n) * 8,\n",
    "        salt=salt,\n",
    "        iterations=100000,\n",
    "    )\n",
    "    kdf.verify(password.encode('utf8'), key)\n",
    "    return key"
   ]
  },
  {
   "cell_type": "markdown",
   "id": "e846af15-2b8c-40e4-8350-47a2d525f288",
   "metadata": {},
   "source": [
    "Começou-se a implementação da função com a utilização de uma função Hash para cálculo de uma string com tamanho de 2^n * 8 bytes (64 bits). Tamanho este que é definido na alínea i do exercício em questão. Dentro dessa função foi utilizado o SHAKE256 para gerar uma sequência de palavras que garante a autênticação do criptograma e dos dados associados ao mesmo. Finalmente, foi criado um ciclo com tamanho fixo (2^n), para armazenar os valores gerados numa lista vazia que irá ser o valor devolvido pela função. \n",
    "\n",
    "De seguida, realizou-se a função kdf2 para gerar a *seed* do gerador. Para isso utilizou-se a função de derivação PBKDF2HMAC, que ao utilizar o algoritmo do SHAKE256, irá gerar uma sequência de palavras aleatórias de tamanho da password."
   ]
  },
  {
   "cell_type": "markdown",
   "id": "bfb6f8e0-682c-4601-8ec4-2e27f1028447",
   "metadata": {},
   "source": [
    "**2.b)** De modo a ser possível realizar a cifragem e decifragem das mensagens foram implementadas as funções *cypher* e *decypher*."
   ]
  },
  {
   "cell_type": "code",
   "execution_count": 3,
   "id": "66ad1715-13f6-4483-aac0-b28e466f0afd",
   "metadata": {},
   "outputs": [],
   "source": [
    "def xor_function(by1, by2):\n",
    "    return bytes([_a ^ _b for _a, _b in zip(by1, by2)])\n",
    "\n",
    "def cypher(message, n, password):\n",
    "    m = message.encode('utf8')                                        \n",
    "    generated_list = generator(kdf2(password, salt, n), n)      \n",
    "    i = 0\n",
    "    blocks = []\n",
    "    while i < (2**n):\n",
    "        blocks.append(m[:8])\n",
    "        m = m[8:]\n",
    "        i += 1\n",
    "    cripto = ''.encode('utf8')\n",
    "    j = 0\n",
    "    while j < len(blocks):\n",
    "        cripto += (xor_function(blocks[j], generated_list[j]))\n",
    "        j += 1\n",
    "    return cripto\n",
    "\n",
    "def decypher(message, n, password):\n",
    "    generated_list = generator(kdf2(password, salt, n), n)\n",
    "    i = 0\n",
    "    cripto_list = []\n",
    "    while i < (2**n):\n",
    "        cripto_list.append(message[:8])\n",
    "        message = message[8:]\n",
    "        i += 1\n",
    "    original_text = ''\n",
    "    j = 0\n",
    "    while j < len(cripto_list):\n",
    "        original_text += (xor_function(cripto_list[j], generated_list[j]).decode('utf8'))\n",
    "        j += 1\n",
    "    return original_text"
   ]
  },
  {
   "cell_type": "markdown",
   "id": "da93a862-3148-47bb-9169-b87ebb941f17",
   "metadata": {},
   "source": [
    "A resolução passou pela criação de 2 funções: *cypher* e *decypher*. \n",
    "\n",
    "A função *cypher*, começa por transfomar a mensagem para bytes através da função *encode*. De seguida, utiliza a função definida previamente como *generate* para criar aleatóriamente as 2^n palavras. Após isso, realiza uma divisão das mensagens em blocos de 8 bytes e realiza uma operação XOR entre os blocos de 8 bits e o resultado obtido pelo gerador pseudo-aleatório. \n",
    "\n",
    "Já a função *decypher* possui um comportamento semelhante à função explicada anteriormente. Começa também por criar aleatóriamente as 2^n palavras e realizar a devida divisão das mensagens. Por fim, realiza a operção XOR entre a lista de criptogramas e de blocos gerados para obter o texto original."
   ]
  },
  {
   "cell_type": "markdown",
   "id": "1c11c9f2-1f43-4405-8bed-4e19376d0ff1",
   "metadata": {},
   "source": [
    "**Exemplos do funcionamento**"
   ]
  },
  {
   "cell_type": "code",
   "execution_count": null,
   "id": "3758eaed-622f-4b14-bc85-58fc99b6ed35",
   "metadata": {},
   "outputs": [
    {
     "name": "stdin",
     "output_type": "stream",
     "text": [
      "Insert message here: super secret message\n",
      "Insert parameter here: 2\n",
      "Insert password here: password\n"
     ]
    },
    {
     "name": "stdout",
     "output_type": "stream",
     "text": [
      "Here's your encrypted message !\n",
      "b'\\x11S\\xceE\\xfd\\xe3:\\x0f\\xf9z\\xdf.\\x88:\\xd8\\x96\\x14T\\x9fQ'\n",
      "Now here's your original message!\n",
      "super secret message\n"
     ]
    }
   ],
   "source": [
    "if __name__ == '__main__':\n",
    "    salt = os.urandom(16)\n",
    "    message = input(\"Insert message here:\")\n",
    "    n = int(input(\"Insert parameter here:\"))\n",
    "    password = input(\"Insert password here:\")\n",
    "    cyphered_text = cypher(message,n,password)\n",
    "    print(\"Here's your encrypted message !\")\n",
    "    print(cyphered_text)\n",
    "    print(\"Now here's your original message!\")\n",
    "    print(decypher(cyphered_text,n,password))"
   ]
  },
  {
   "cell_type": "markdown",
   "id": "18480646-361f-49b1-9a05-4937e05fa706",
   "metadata": {},
   "source": [
    "**Exemplo 1**<br>\n",
    "\n",
    "Insert message here: super secret message<br>\n",
    "Insert parameter here: 2<br>\n",
    "Insert password here: password<br>\n",
    "Here's your encrypted message !<br>\n",
    "b'\\x11S\\xceE\\xfd\\xe3:\\x0f\\xf9z\\xdf.\\x88:\\xd8\\x96\\x14T\\x9fQ'<br>\n",
    "Now here's your original message!<br>\n",
    "super secret message<br>"
   ]
  },
  {
   "cell_type": "markdown",
   "id": "a1f02e59-9a40-4a9a-86f6-5c732e0996a9",
   "metadata": {},
   "source": [
    "**Exemplo 2**<br>\n",
    "\n",
    "Insert message here: A super hyper mega secret message<br>\n",
    "Insert parameter here: 3<br>\n",
    "Insert password here: passwordofthatmessage<br>\n",
    "Here's your encrypted message !<br>\n",
    "b'z\\xd5%uaI\\xb1\\xa1\\xc8\\xde\\xf1\\xe1\"\\xc9\\x85Pj/me\\x0c\\xa8\\x07Y\\xe6PE\\xd7B\\xaf?\\xf1\\x91'<br>\n",
    "Now here's your original message!<br>\n",
    "A super hyper mega secret message<br>"
   ]
  },
  {
   "cell_type": "markdown",
   "id": "3de8d4f3-27bb-4bc7-a2ec-ef94c51fb995",
   "metadata": {},
   "source": [
    "**Exemplo 3**\n",
    "\n",
    "Insert message here: Another super hyper mEga seCret meSsaGe 1234<br>\n",
    "Insert parameter here: 4<br>\n",
    "Insert password here: 12345<br>\n",
    "Here's your encrypted message !<br>\n",
    "b'\\xa2,a\\xb4\\xb6} 6I\\xec\\x18\\x84\\xc7\\x18\\xf4\\xa0\\xce\\x9a\\xc5\\x94\\xae\\x85\\xc7\\xcd7\\x93U\\xd4\\x10o%\\xbb\\xac\\xf9\\x16\\x19_Bw[\\xcaD\\xb5\\x05'<br>\n",
    "Now here's your original message!<br>\n",
    "Another super hyper mEga seCret meSsaGe 1234<br>"
   ]
  },
  {
   "cell_type": "markdown",
   "id": "fea525d9-4967-4734-82b9-093cbafa685a",
   "metadata": {},
   "source": [
    "## Problema 3"
   ]
  },
  {
   "cell_type": "markdown",
   "id": "d95bbb92-9ca0-4d72-9747-689cd7fb3295",
   "metadata": {},
   "source": [
    "**3.** Para uma melhor análise da eficiência, deciciu-se utilizar o *timeit* que descreve o tempo de execução de cada método."
   ]
  },
  {
   "cell_type": "code",
   "execution_count": 22,
   "id": "fc5075bd-3605-419e-8b36-6b1cbc8eec04",
   "metadata": {},
   "outputs": [
    {
     "name": "stdin",
     "output_type": "stream",
     "text": [
      "Insert message here: super secret message\n",
      "Insert parameter here: 5\n",
      "Insert password here: password \n"
     ]
    },
    {
     "name": "stdout",
     "output_type": "stream",
     "text": [
      "3.611001500000043\n"
     ]
    }
   ],
   "source": [
    "def main(message,n,password):\n",
    "    cyphered_text = cypher(message,n,password)\n",
    "    decypher(cyphered_text,n,password)\n",
    "    \n",
    "if __name__ == '__main__':\n",
    "    salt = os.urandom(16)\n",
    "    message = input(\"Insert message here:\")\n",
    "    n = int(input(\"Insert parameter here:\"))\n",
    "    password = input(\"Insert password here:\")\n",
    "    print(timeit.timeit(stmt = \"main(message,n,password)\",number=1, globals=globals()))"
   ]
  },
  {
   "cell_type": "markdown",
   "id": "35407e5f-bd4c-4aa4-bf0a-28cb36f0cd51",
   "metadata": {},
   "source": [
    "Ao utilizar a mesma mensagem (\"super secret message\") e a mesma password (\"password\") obteve-se a seguinte tabela para os diferentes n parâmetros:\n",
    "\n",
    "n| |Tempo de execução(s)<br>\n",
    "1| |0.26620309999998426<br>\n",
    "2| |0.27461110000001554<br>\n",
    "3| |0.539764200000036<br>\n",
    "4| |1.0711420999999746<br>\n",
    "5| |3.611001500000043<br>\n",
    "\n",
    "Podemos concluir que, no algoritmo do exercício 2 o tempo de execução aumenta consideravelmente consoante o incremento do parâmetro n. Isto deve-se ao aumento exponencial do tamanho da string a ser calculada na função gerador. No entanto, este mostra-se bastante eficiênte para casos onde o parâmetro n apresenta valores relativamente baixos (n<=3), sendo o seu uso apropriado para estes casos."
   ]
  },
  {
   "cell_type": "markdown",
   "id": "72f4061b-61ed-4e4d-a95f-518dee1c449b",
   "metadata": {},
   "source": [
    "Relativamente ao primeiro problema, apesar de não ter sido possível para a equipa de trabalho elaborar testes, teoricamente a técnica desenvolvida no segundo problema será preferível. O protocolo de Diffie-Hellman só pode ser utilizado com troca de chaves simétricas e é vulnerável a ataques do tipo *man-in-the-middle*. Para além disto, trata-se de um protocolo que exige mais do CPU e outros recursos; com isto em conta seria expectável tempos de execução piores em relação à técnica aplicada no problema 2."
   ]
  }
 ],
 "metadata": {
  "kernelspec": {
   "display_name": "Python 3 (ipykernel)",
   "language": "python",
   "name": "python3"
  },
  "language_info": {
   "codemirror_mode": {
    "name": "ipython",
    "version": 3
   },
   "file_extension": ".py",
   "mimetype": "text/x-python",
   "name": "python",
   "nbconvert_exporter": "python",
   "pygments_lexer": "ipython3",
   "version": "3.10.0"
  }
 },
 "nbformat": 4,
 "nbformat_minor": 5
}
