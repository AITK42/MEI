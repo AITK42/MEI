{
 "cells": [
  {
   "cell_type": "markdown",
   "metadata": {},
   "source": [
    "# Trabalho prático 1 - Estruturas Criptográficas"
   ]
  },
  {
   "cell_type": "markdown",
   "metadata": {},
   "source": [
    "#### Autores: Ariana Lousada (PG47034), Cláudio Moreira (PG47844)\n",
    "#### Grupo  12"
   ]
  },
  {
   "cell_type": "markdown",
   "metadata": {},
   "source": [
    "## Problema 2"
   ]
  },
  {
   "cell_type": "markdown",
   "metadata": {},
   "source": [
    "**2.a)**\n",
    "\n",
    "No exercício 2, era-nos pedido o desenvolvimento de um KEM-RSA através do SageMath. Numa fase inicial, deve receber um parâmetro de segurança para occorrer uma geração de chaves públicas e privadas. De seguida, atravém deste KEM deve ser desenvolvido um PKE que seja IND-CCA seguro através de uma transformação Fujisaki-Okamoto. Começamos por realizar uma importação dos módulos necessários para o desenvolvimento do exercício.\n",
    "\n",
    "De seguida, foi realizada uma função key_generator que começa por gerar dois números primos aleatórios, p e q, com base no algoritmo RSA. Para isso foi utilizada a função random_prime do Sagemat. De seguida, existe um armazenamento na variável n do produto dos números primos p e q e um cálculo da função totiente de Euler. Posteriormente à criação da variável euler, é encontrado um ineiro e tal que este se encontra entre 1 e a variável euler e que e e euler sejam primos entre si. Finalmente, realizou-se uma cifragem e uma decifragem através das funções cipher e decypher com base no algoritmo RSA.\n",
    "\n",
    "De seguida passou-se para o encapsulamento dos dados através da combinação do DEM com o KEM. O primeiro tem como função realizar uma ofusação dos dados enquanto que o segundo tem como objetivo a criação, comunicação e ofuscação da chave privada. Para isso, foram criadas as funções KEM e DEM.\n",
    "\n",
    "A função KEM funciona de forma semelhante a um gerador aleatório que devolve um par de resultados. Já a função DEM realiza o encapsulamento da mensagem a partir de uma função XOR.\n",
    "\n",
    "De seguida, foram criados algoritmos de revelação das chaves previamente escondidas. Para isso utilizaram-se as funções Reverse_KEM e Reverse_DEM que realizam a decifragem da chave previamente cifrada.\n"
   ]
  },
  {
   "cell_type": "code",
   "execution_count": 16,
   "metadata": {},
   "outputs": [],
   "source": [
    "import hashlib\n",
    "import binascii\n",
    "from binascii import unhexlify, hexlify\n",
    "class KEM_RSA:\n",
    "    def __init__(self,s):\n",
    "        self.s=s\n",
    "    def key_generator(self):\n",
    "        p = random_prime(2^self.s-1,True,2^(self.s-1))\n",
    "        q = random_prime(2^self.s-1,True,2^(self.s-1))\n",
    "        n = p*q\n",
    "        euler = (p-1)*(q-1)\n",
    "        e = ZZ.random_element(euler)\n",
    "        while gcd(euler, e) != 1:\n",
    "            e = ZZ.random_element(euler)\n",
    "        d = inverse_mod(e,euler)\n",
    "        return (d,p,q), (e,n)\n",
    "\n",
    "    def cipher(self,message,e,n):\n",
    "        cipher = pow(message,e,n)\n",
    "        return cipher\n",
    "\n",
    "    def decipher(self, message,e,n):\n",
    "        decipher = pow(message,e,n)\n",
    "        return decipher\n",
    "    \n",
    "    def xor_function(self, a, b):\n",
    "        return bytes([ x^^y for (x,y) in zip(a, b)])\n",
    "\n",
    "    def KEM(self,key):\n",
    "        e, n = key\n",
    "        r = ZZ.random_element(0,n - 1)\n",
    "        cifra = kem_rsa.cipher(r,e,n)\n",
    "        chave = hash(r)\n",
    "        return (cifra,chave)\n",
    "\n",
    "    def DEM(self, mensagem, key):\n",
    "        m = binascii.hexlify(mensagem.encode('utf-8'))\n",
    "        k = binascii.hexlify(str(key).encode('utf-8'))\n",
    "        cript = kem_rsa.xor_function(m,k)\n",
    "        return cript\n",
    "    \n",
    "    def Reverse_KEM(self, cipher, key1, key2):\n",
    "        d,p,q = key1\n",
    "        e, n = key2\n",
    "        r = kem_rsa.decipher(cipher,d,n)\n",
    "        key = hash(r)\n",
    "        return key\n",
    "\n",
    "    def DRev(self, cript, cipher, key1, key2):\n",
    "        key = self.Reverse_KEM(cipher, key1, key2)\n",
    "        k = binascii.hexlify(str(key).encode('utf-8'))\n",
    "        original_text = kem_rsa.xor_function(cript,k)\n",
    "        original_text = binascii.unhexlify(original_text.decode('utf-8'))\n",
    "        original_text = original_text.decode('utf-8')\n",
    "        return original_text"
   ]
  },
  {
   "cell_type": "markdown",
   "metadata": {},
   "source": [
    "Exemplo da testagem."
   ]
  },
  {
   "cell_type": "code",
   "execution_count": 56,
   "metadata": {
    "scrolled": true
   },
   "outputs": [
    {
     "name": "stdout",
     "output_type": "stream",
     "text": [
      "Criptogram:  b'\\x04\\x01\\x05\\x05\\x05\\x03\\x04\\x00\\x05\\x03\\x04\\x01\\x01\\x03\\x05Q\\x05\\x01\\x04\\x00\\x04\\x00\\x05\\x08\\x05\\x01\\x05\\x00\\x01\\x08'\n",
      "Original Text:  secret message \n"
     ]
    }
   ],
   "source": [
    "kem_rsa = KEM_RSA(512)\n",
    "key1, key2 = kem_rsa.key_generator()\n",
    "\n",
    "cipher, keyEnc = kem_rsa.KEM(key2)\n",
    "cript = kem_rsa.DEM(\"secret message \", keyEnc)\n",
    "print(\"Criptogram: \",cript)\n",
    "\n",
    "\n",
    "original_text = kem_rsa.DRev(cript,cipher, key1, key2)\n",
    "print(\"Original Text: \", original_text)"
   ]
  },
  {
   "cell_type": "markdown",
   "metadata": {},
   "source": [
    "**2.b)**\n",
    "\n",
    "Passou-se para a resolução da alínea b onde nos era pedido a construção de um PKE que seja IND-CAA seguro , a partir do KEM construido anteriormente e através da transformação *Fujisaki-Okamoto*. Para isso utilizou-se uma função de cifragem (cipher_FO) e uma função de decifragem (decipher_FO).\n",
    "\n",
    "\n",
    "Sendo assim, começou-se com a definição da função cipher_FO. Esta, como o nome indica, tem o objetivo cifrar uma mensagem sendo que começa por aplicar uma função hash às variáveis h1 e h2,sendo que a aplicação na h1 é feita através de um número pseudo-aleatórtio. Já a aplicação na variável h2 é feita através do valor calculado em h1. De seguida, é realizado um XOR da mensagem a variável calculada em h2 para \"esconder\" a mensagem. Posteriormente, é realizado uma concatenação da varíavel y com h1 para obter o encapsulamento da chave. Finalmente, é realizado uma operação XOR entre a key e a variável h1.\n",
    "\n",
    "De seguida, realizou-se a função decypher_FO. Esta começa por realizar uma decifragem da chave através do algoritmo definido anteriormente. Como é possível observar, esta função possui um comportamento semelhante à cipher_FO realizando novamente cifra com o RSA. No final é realizado apenas um *if/else* para garantir que o resultado da cifra não é o mesmo que o valor anterior.\n"
   ]
  },
  {
   "cell_type": "code",
   "execution_count": 57,
   "metadata": {},
   "outputs": [],
   "source": [
    "def cipher_FO(key1, message):\n",
    "    h1,h2 = key1\n",
    "    r = hash(ZZ.random_element(0,h2 - 1))\n",
    "    g = hash(str(r))\n",
    "    m = binascii.hexlify(message.encode('utf-8'))\n",
    "    g = binascii.hexlify(str(g).encode('utf-8'))\n",
    "    y = kem_rsa.xor_function(m,g)\n",
    "    y2 = int.from_bytes(y, \"big\")\n",
    "    concatencao_y_r = str(y2) + str(r)\n",
    "    cipher_var = kem_rsa.cipher(int(concatencao_y_r),h1,h2)\n",
    "    key2 = hash(concatencao_y_r)\n",
    "    k = binascii.hexlify(str(key2).encode('utf-8'))\n",
    "    r_bytes = binascii.hexlify(str(r).encode('utf-8'))\n",
    "    c = kem_rsa.xor_function(r_bytes,k)\n",
    "    return y, cipher_var, c\n",
    "\n",
    "def decipher_FO(key1,key2,y, cipher_var, c):\n",
    "    h1, h2 = key1\n",
    "    d,p,q = key2\n",
    "    decipher = kem_rsa.decipher(cipher_var,d,h2)\n",
    "    key = hash(str(decipher))\n",
    "    k = binascii.hexlify(str(key).encode('utf-8'))\n",
    "    r = kem_rsa.xor_function(c,k)\n",
    "    r = binascii.unhexlify(r.decode('utf-8'))\n",
    "    g = hash(r)\n",
    "    g = binascii.hexlify(str(g).encode('utf-8'))\n",
    "    cipher_var_2 = kem_rsa.cipher(decipher,h1,h2)\n",
    "    if cipher_var!=cipher_var_2:\n",
    "        print(\"ERRO\")\n",
    "        return\n",
    "    else:\n",
    "        original_text = kem_rsa.xor_function(y,g)\n",
    "        original_text = binascii.unhexlify(original_text.decode('utf-8'))\n",
    "        original_text = original_text.decode('utf-8')\n",
    "        return original_text\n"
   ]
  },
  {
   "cell_type": "markdown",
   "metadata": {},
   "source": [
    "Exemplo da testagem:"
   ]
  },
  {
   "cell_type": "code",
   "execution_count": 59,
   "metadata": {},
   "outputs": [
    {
     "name": "stdout",
     "output_type": "stream",
     "text": [
      "Message: secret message \n",
      "\n",
      "Hidden Message: b'\\x05W\\x05\\x00\\x05\\x00\\x04\\x02\\x05\\x03\\x04\\x0c\\x01\\x03\\x05Q\\x05\\x01\\x04\\x00\\x04\\x07\\x05\\x08\\x05\\x01\\x05\\x06' \n",
      "\n",
      "Encapsulated key: 55182933780602497635978450654011267852107526775799779755000168838300375405820340532431370081208064559049595600573356707273012416776568372987436996603205342449871161894464993215589110561180288766577809318744386067384930932231150085495701287694043416647131570321582937446763576457378912023379418354658905300334 \n",
      "\n",
      "Hidden key: b'\\x01U\\x00\\x0b\\x00\\x07\\x00\\x03\\x00\\t\\x00\\x00\\x00\\x00\\x00\\x02\\x00\\x02\\x00\\n\\x00\\x07\\x00\\x05\\x00\\x05\\x00\\x02\\x00\\x02\\x00\\x01\\x00\\x00\\x00\\x0c\\x00\\r' \n",
      "\n",
      "Original Text: secret message\n"
     ]
    }
   ],
   "source": [
    "kem_rsa = KEM_RSA(512)\n",
    "key1, key2 = kem_rsa.key_generator()\n",
    "mensagem = \"secret message\"\n",
    "y, cipher, c = cipher_FO(key2, mensagem)\n",
    "print(\"Message:\", mensagem, \"\\n\" )\n",
    "print(\"Hidden Message:\", y, \"\\n\")\n",
    "print(\"Encapsulated key:\", cipher, \"\\n\")\n",
    "print(\"Hidden key:\", c, \"\\n\")\n",
    "original_text = decipher_FO(key2, key1, y, cipher, c)\n",
    "print(\"Original Text:\",original_text)\n"
   ]
  },
  {
   "cell_type": "code",
   "execution_count": null,
   "metadata": {},
   "outputs": [],
   "source": []
  }
 ],
 "metadata": {
  "kernelspec": {
   "display_name": "SageMath 9.3",
   "language": "sage",
   "name": "sagemath"
  },
  "language_info": {
   "codemirror_mode": {
    "name": "ipython",
    "version": 3
   },
   "file_extension": ".py",
   "mimetype": "text/x-python",
   "name": "python",
   "nbconvert_exporter": "python",
   "pygments_lexer": "ipython3",
   "version": "3.7.10"
  }
 },
 "nbformat": 4,
 "nbformat_minor": 4
}
