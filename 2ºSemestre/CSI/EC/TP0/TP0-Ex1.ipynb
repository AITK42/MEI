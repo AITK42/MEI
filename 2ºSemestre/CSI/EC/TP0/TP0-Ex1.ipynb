{
 "cells": [
  {
   "cell_type": "markdown",
   "id": "fe1aa83e",
   "metadata": {},
   "source": [
    "# Trabalho prático 0 - Estruturas Criptográficas"
   ]
  },
  {
   "cell_type": "markdown",
   "id": "d04211c3-67c0-494a-9a99-e4af204271c3",
   "metadata": {},
   "source": [
    "#### Autores: Ariana Lousada (PG47034), Cláudio Moreira (PG47844)\n",
    "#### Grupo  12"
   ]
  },
  {
   "cell_type": "code",
   "execution_count": null,
   "id": "6c4988ca",
   "metadata": {},
   "outputs": [],
   "source": [
    "import multiprocessing\n",
    "import os\n",
    "from cryptography.hazmat.primitives.ciphers.aead import AESGCM\n",
    "from cryptography.hazmat.primitives import hmac\n",
    "from cryptography.hazmat.primitives import hashes\n",
    "from cryptography.hazmat.primitives.asymmetric import dh\n",
    "from cryptography.hazmat.primitives.kdf.hkdf import HKDF\n",
    "from cryptography.hazmat.primitives.asymmetric import dsa\n",
    "from cryptography.hazmat.primitives import serialization\n",
    "from cryptography.hazmat.primitives.kdf.pbkdf2 import PBKDF2HMAC\n",
    "from cryptography.hazmat.primitives.serialization import load_pem_public_key\n",
    "from cryptography.hazmat.primitives import serialization\n",
    "\n",
    "\n",
    "listanouce = []\n",
    "\n",
    "salt = os.urandom(16) # Salt partilhado\n",
    "metadados = os.urandom(16)\n",
    "\n",
    "def kdf(password, salt):\n",
    "    # PBKDF2 algoritmo tipicamente usado para obter uma chave a partir de uma password,\n",
    "    # tamanho da chave (32 bytes)\n",
    "    kdf = PBKDF2HMAC(algorithm=hashes.SHA256(),length=32,salt=salt,iterations=100000)\n",
    "    \n",
    "    key = kdf.derive(password.encode('utf8')) # deriva a chave\n",
    "\n",
    "    # verificação de se a password fornecida pelo user corresponde à chave derivada armazenada\n",
    "    kdf = PBKDF2HMAC(algorithm=hashes.SHA256(),length=32,salt=salt,iterations=100000)\n",
    "    kdf.verify(password.encode('utf8'),key)\n",
    "    return key"
   ]
  },
  {
   "cell_type": "markdown",
   "id": "1a168eb8",
   "metadata": {},
   "source": [
    "## Problema  1"
   ]
  },
  {
   "cell_type": "markdown",
   "id": "82baa9fc",
   "metadata": {},
   "source": [
    "##### Pergunta a)"
   ]
  },
  {
   "cell_type": "markdown",
   "id": "326e5115-b1e1-4abd-963e-2ca719852a99",
   "metadata": {},
   "source": [
    "Para ser possível criar uma comunicação entre duas entidades distintas, com segurança contra ataques aos nounces, recorreu-se à cifra simétrica AES para desenvolver as funções cifragem e decifragem. De modo a gerar nonces aleatórios, foi utilizada a função nounceGeneratorSHAKE(que será abordada na alínea b deste exercício).\n",
    "\n",
    "Também se desenvolveram as funções mac e mac_verify, para serem posteriormente implementadas no protocolo DH com assinaturas DSA. Este par de funções garante a autenticidade na partilha de chaves entre o Emitter e o Receiver.\n",
    "\n",
    "A função mac cria uma tag de autenticação através da password e da chave derivada, recorrendo à função hash hmac.\n",
    "\n",
    "A função mac_verify verifica a autenticidade. "
   ]
  },
  {
   "cell_type": "markdown",
   "id": "2c4beac6-f29d-4c1b-b336-7fd901507428",
   "metadata": {},
   "source": [
    "\n"
   ]
  },
  {
   "cell_type": "code",
   "execution_count": null,
   "id": "ce718d11",
   "metadata": {},
   "outputs": [],
   "source": [
    "# função que cifra mensagens\n",
    "def cifragem(texto, metadados, key):\n",
    "    texto = texto.encode('utf8') # conversão do texto limpo para bytes\n",
    "    \n",
    "    aesgcm = AESGCM(key)\n",
    "    \n",
    "    nonce =  nounceGeneratorSHAKE(kdf(password, salt, 12),12)\n",
    "    ciphered_text = aesgcm.encrypt(nonce, texto, metadados)\n",
    "    \n",
    "    # concatenação do nonce ao ciphered text\n",
    "    ciphered_text += nonce \n",
    "    return ciphered_text\n",
    "\n",
    "# função que decifra mensagens\n",
    "def decifragem(ciphered_text, metadados, key):\n",
    "    aesgcm = AESGCM(key)\n",
    "    # atribuir os 12 últimos bytes do ciphered text ao nonce\n",
    "    nonce = ciphered_text[-12:] \n",
    "    \n",
    "    # retirar os 12 últimos bytes\n",
    "    ciphered_text = ciphered_text[:-12] \n",
    "    \n",
    "    # decifragem utilizando GCM\n",
    "    clean_text = aesgcm.decrypt(nonce, ciphered_text, metadados) \n",
    "    \n",
    "    return clean_text\n",
    "\n",
    "def mac(key, ciphered_text):\n",
    "    h = hmac.HMAC(key, hashes.SHA256())\n",
    "    h.update(ciphered_text)\n",
    "    tag = h.finalize()\n",
    "    return tag\n",
    "\n",
    "def mac_verify(key, ciphered_text, tag):\n",
    "    h = hmac.HMAC(key, hashes.SHA256())\n",
    "    h.update(ciphered_text)\n",
    "    h.verify(tag)"
   ]
  },
  {
   "cell_type": "markdown",
   "id": "04d2bc14",
   "metadata": {},
   "source": [
    "##### Pergunta b)"
   ]
  },
  {
   "cell_type": "markdown",
   "id": "841ca4ab-5746-4775-bcb9-122b2ae3002b",
   "metadata": {},
   "source": [
    "De modo a criar um gerador pseudo-aleatório com uma função do tipo XOF(Extendable Output\n",
    "Function) escolheu-se o SHAKE256 para ser possível criar uma sequência de 2n palavras aleatórias de 8 bytes cada."
   ]
  },
  {
   "cell_type": "code",
   "execution_count": null,
   "id": "c78e9fb9",
   "metadata": {},
   "outputs": [],
   "source": [
    "def nounceGeneratorSHAKE(seed, n):\n",
    "    i = 0\n",
    "    nounce = []\n",
    "    digest = hashes.Hash(hashes.SHAKE256((2**n) * 8)) # calcula uma string com tamanho de 2^n *8 bytes (64 bits)\n",
    "    digest.update(seed) # bytes a ser hashed (seed)\n",
    "    p = digest.finalize()\n",
    "    while i < (2**n): # dividir a mensagem em blocos de 8 bytes\n",
    "        nounce.append(p[:8])\n",
    "        p = p[8:]\n",
    "        i += 1\n",
    "    return nounce"
   ]
  },
  {
   "cell_type": "markdown",
   "id": "62aca5da",
   "metadata": {},
   "source": [
    "##### Pergunta c) "
   ]
  },
  {
   "cell_type": "markdown",
   "id": "499aa273-1ffb-468b-a4de-0df0d7e43c68",
   "metadata": {},
   "source": [
    "Para desenvolver uma solução para esta pergunta, desenvolveram-se cinco funções distintas.\n",
    "   \n",
    "   A primeira função, geraChavesDH gera as chaves pública e privada DH para os dois agentes pertencentes à comunicação.\n",
    "    A segunda função, geraChavesDSA gera as chaves pública e privada DSA para os dois agentes.\n",
    "    A terceira função verificacaoAssinatura verifica se a assinatura é válida a partir das chaves públicas de cada agente.\n",
    "    A quarta função derivacaoChave é responsável pela criação da chave partilhada entre os agentes assim como a sua derivação.\n",
    "   \n",
    "   Por fim, a última função DHProtocol_DSA define o protocolo de troca de chaves e de autenticação de assinaturas. O principal objetivo consiste na transferência de chaves e da assinatura entre as entidades na comunicação, assim como a verificação e derivação da chave partilhada. Esta função tira também partido das funções de aplicação hmac já anteriormente desenvolvidas, de modo a garantir a autenticação."
   ]
  },
  {
   "cell_type": "code",
   "execution_count": null,
   "id": "db39ca61",
   "metadata": {},
   "outputs": [],
   "source": [
    "# geração dos parâmteros DH\n",
    "parameters = dh.generate_parameters(generator=2, key_size=2048)\n",
    "\n",
    "# geração das chaves pública e privada DH\n",
    "def geraChavesDH():\n",
    "    # geração da chave privada DH\n",
    "    private_keyDH = parameters.generate_private_key()\n",
    "    \n",
    "    # geração da chave pública DH e passagem para bytes\n",
    "    public_keyDH = private_keyDH.public_key().public_bytes(encoding=serialization.Encoding.PEM, \n",
    "                                                           format=serialization.PublicFormat.SubjectPublicKeyInfo)\n",
    "    \n",
    "    return private_keyDH, public_keyDH\n",
    "\n",
    "# geração das chaves pública e privada DSA\n",
    "def geraChavesDSA():\n",
    "    # geração da chave privada DSA\n",
    "    private_keyDSA = dsa.generate_private_key(key_size=1024)\n",
    "    # geração da chave pública DSA e passagem para bytes\n",
    "    public_KeyDSA = private_keyDSA.public_key().public_bytes(encoding=serialization.Encoding.PEM, \n",
    "                                                             format=serialization.PublicFormat.SubjectPublicKeyInfo)\n",
    "    return private_keyDSA, public_KeyDSA\n",
    "\n",
    "# verificação da assinatura\n",
    "def verificacaoAssinatura(assinatura, public_keyDH, public_keyDSA, nome):\n",
    "    try:\n",
    "        public_keyDSA.verify(assinatura, public_keyDH, hashes.SHA256())\n",
    "        print(nome, \"Signature verified. \\n\")\n",
    "    except Exception as err:\n",
    "        print(\"Error: \" + str(err))\n",
    "        \n",
    "# criação da chave partilhada e respetiva derivação\n",
    "def derivacaoChave(private_keyDH, public_keyDH):\n",
    "    shared_key = private_keyDH.exchange(public_keyDH)\n",
    "    derived_key = HKDF(algorithm=hashes.SHA256(),length=32,salt=salt,\n",
    "                       info=b'handshake data').derive(shared_key)\n",
    "\n",
    "    return derived_key\n",
    " \n",
    "\n",
    "def mac(key, ciphered_text):\n",
    "    h = hmac.HMAC(key, hashes.SHA256())\n",
    "    h.update(ciphered_text)\n",
    "    tag = h.finalize()\n",
    "    return tag\n",
    "\n",
    "def mac_verify(key, ciphered_text, tag):\n",
    "    h = hmac.HMAC(key, hashes.SHA256())\n",
    "    h.update(ciphered_text)\n",
    "    h.verify(tag)    \n",
    "    \n",
    "# protocolo de troca de chaves e autenticação\n",
    "def DHProtocol_DSA(conn, password, nome):\n",
    "    # criação das chaves\n",
    "    private_keyDH, public_keyDH = geraChavesDH()\n",
    "    private_keyDSA, public_keyDSA = geraChavesDSA()\n",
    "    \n",
    "    # assinatura\n",
    "    signature = private_keyDSA.sign(public_keyDH, hashes.SHA256())\n",
    "\n",
    "    # envio da informação (chaves + assinatura) para o outro agente\n",
    "    info = [public_keyDH, public_keyDSA, signature]\n",
    "    conn.send(info)\n",
    "\n",
    "    # receção da informação do agente\n",
    "    info = conn.recv()\n",
    "    receiverPK_DH_Bytes = info[0]\n",
    "    receiverPK_DSA_Bytes = info[1]\n",
    "    receiverSign = info[2]\n",
    "\n",
    "    # descerialização das chaves\n",
    "    receiverPK_DH = load_pem_public_key(receiverPK_DH_Bytes)\n",
    "    receiverPK_DSA = load_pem_public_key(receiverPK_DSA_Bytes)\n",
    "\n",
    "    # verificação da assinatura\n",
    "    verificacaoAssinatura(receiverSign, receiverPK_DH_Bytes, receiverPK_DSA,nome)\n",
    "\n",
    "    # derivação de chaves\n",
    "    derived_key = derivacaoChave(private_keyDH, receiverPK_DH)\n",
    "\n",
    "    # Autenticação HMAC\n",
    "    tag = mac(password, derived_key)\n",
    "    conn.send(tag)\n",
    "    tagRecebida = conn.recv()\n",
    "    mac_verify(password, derived_key, tagRecebida)\n",
    "    print(nome, \"Finished.\\n\")\n",
    "\n",
    "    return derived_key"
   ]
  },
  {
   "cell_type": "markdown",
   "id": "de5b8bf8-1154-4c48-9dfd-083087e3e6a2",
   "metadata": {},
   "source": [
    "## Comunicação entre Emitter e Receiver"
   ]
  },
  {
   "cell_type": "markdown",
   "id": "57482fa4-3a82-4b68-8cf3-e472ef3b7382",
   "metadata": {},
   "source": [
    "Para inicializar a comunicação, é criado um Pipe de modo a possibilitar a comunicação entre Emmiter e Receiver.\n",
    "Em primeiro lugar é necessária a inserção da password da parte do Receiver, Emmiter e a mensagem a ser enviada. Estas passwords são posteriormente derivadas utilizando um kdf.\n",
    "Em segundo lugar, são inicializados os protocolos de acordo de chaves e respetiva autenticação, utilizando a função anteriormente desenvolvida de implementação do protocolo DH-DSA (DHProtocol_DSA).\n",
    "Caso as passwords sejam iguais e não ocorram erros de autenticação nem de verificação de assinaturas, a chave é partilhada entre os dois agentes.\n",
    "Por fim, a mensagem inserida é enviada do Emmiter(onde é cifrada antes do envio) para o Receiver(onde é decifrada após a receção). \n",
    "Os processos de cifragem e decifragem são feitos recorrendo às funções desenvolvidas na alínea a)."
   ]
  },
  {
   "cell_type": "code",
   "execution_count": null,
   "id": "a967bec7-5701-4c7d-8493-9bd428fd1175",
   "metadata": {},
   "outputs": [],
   "source": [
    "metadados = os.urandom(16)\n",
    "# emissor da mensage\n",
    "def emitter(conn, msgs, chave):\n",
    "    shared_key = DHProtocol_DSA(conn, chave, \"[Emitter]\")\n",
    "\n",
    "    for msg in msgs:\n",
    "        ciphered_text = cifragem(msg, metadados, shared_key)\n",
    "        print(\"[Emitter] Message sent.\\n\")\n",
    "        conn.send(ciphered_text)\n",
    "    \n",
    "    conn.close()\n",
    "    \n",
    "# receptor da mensagem\n",
    "def receiver(conn, chave2):\n",
    "    shared_key = DHProtocol_DSA(conn, chave2, \"[Receiver]\")\n",
    "    try:\n",
    "        ciphered_text = conn.recv()\n",
    "        clean_text = decifragem(ciphered_text, metadados, shared_key)\n",
    "        print(\"[Receiver] Received message: \" + clean_text.decode('utf8') + \"\\n\")\n",
    "\n",
    "    except Exception as err:\n",
    "        print(\"Error: \" + str(err))\n",
    "        return 1   \n",
    "\n",
    "    \n",
    "#estabelecer comunição entre receiver e emitter    \n",
    "def main1(passEm, passRc, msgs):\n",
    "    salt = os.urandom(16) # salt comum a ambos os agentes\n",
    "    chave = kdf(passEm, salt) # derivação da pass do emitter\n",
    "    \n",
    "    # criação dos pipes\n",
    "    parent_conn, child_conn = multiprocessing.Pipe()\n",
    "    p1 = multiprocessing.Process(target=emitter, args=(parent_conn, msgs,chave)) # envio da mensagem\n",
    "    \n",
    "    chave2 = kdf(passRc, salt) # derivação da pass do receiver\n",
    "    p2 = multiprocessing.Process(target=receiver, args=(child_conn, chave2)) #recebe a mensagem\n",
    "    \n",
    "    # processos a correr\n",
    "    p1.start()\n",
    "    p2.start()\n",
    "    \n",
    "    # espera que ambos os processos terminem\n",
    "    p1.join()\n",
    "    p2.join()\n",
    "\n",
    "if __name__ == '__main__':\n",
    "    passEm = input(\"Password (Emitter): \")\n",
    "    msgs = [input(\"Message:\")] # escreve a mensagem que pretende enviar\n",
    "    passRc = input(\"Password (Receiver): \")\n",
    "    main1(passEm, passRc, msgs)  "
   ]
  },
  {
   "cell_type": "markdown",
   "id": "cf130f85-12a3-4910-8397-f176b12b98c6",
   "metadata": {},
   "source": [
    "#### Problemas de Implementação"
   ]
  },
  {
   "cell_type": "markdown",
   "id": "b772785a-e6bc-45cd-be4e-f4f3257ad638",
   "metadata": {},
   "source": [
    "Devido a um erro de derivação de chaves, nomeadamente na função derivacaoChave utilizada na função de aplicação do protocolo Diffie-Hellman, não foi possível a elaboração de testes relativos ao primeiro problema. Este erro pode ter como causa algum tipo de formato num dos argumentos utilizados pela função. Contudo, a equipa de trabalho viu-se incapaz de corrigir o problema."
   ]
  }
 ],
 "metadata": {
  "kernelspec": {
   "display_name": "Python 3 (ipykernel)",
   "language": "python",
   "name": "python3"
  },
  "language_info": {
   "codemirror_mode": {
    "name": "ipython",
    "version": 3
   },
   "file_extension": ".py",
   "mimetype": "text/x-python",
   "name": "python",
   "nbconvert_exporter": "python",
   "pygments_lexer": "ipython3",
   "version": "3.10.0"
  }
 },
 "nbformat": 4,
 "nbformat_minor": 5
}
