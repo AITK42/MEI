{
 "cells": [
  {
   "cell_type": "markdown",
   "metadata": {},
   "source": [
    "# Trabalho prático 1 - Estruturas Criptográficas"
   ]
  },
  {
   "cell_type": "markdown",
   "metadata": {},
   "source": [
    "#### Autores: Ariana Lousada (PG47034), Cláudio Moreira (PG47844)\n",
    "#### Grupo  12"
   ]
  },
  {
   "cell_type": "markdown",
   "metadata": {},
   "source": [
    "## Problema 1"
   ]
  },
  {
   "cell_type": "markdown",
   "metadata": {},
   "source": [
    "Para a implementação da resolução deste exercício a equipa de trabalho tentou seguir uma estratégia de cifra “lightweight”.\n",
    "\n",
    "Começou-se por definir o tamanho do bloco. Escolheu-se o tamanho 256 uma vez que se vai utilizar a cifra por blocos primitiva AES-256. Isto também porque um tamanho demasiado pequeno ou demasiado elevado poderá influenciar negativamente a segurança deste modo: por um lado pode facilitar o atacante, podendo este facilmente adivinhar as combinações de bits; por outro lado a cifra fica demasiado ineficiente para ser utilizada.\n",
    "\n",
    "Neste problema é então inserida uma mensagem, a qual é dividida por blocos e posteriormente cifrada utilizando o AES-256."
   ]
  },
  {
   "cell_type": "markdown",
   "metadata": {},
   "source": [
    "##### Problemas de implementação"
   ]
  },
  {
   "cell_type": "markdown",
   "metadata": {},
   "source": [
    "Apesar da equipa de trabalho ter iniciado o desenvolvimento de métodos de construção e aplicação do tweak, a sua implementação não foi alcançada.\n",
    "\n",
    "Tal como mencionado anteriormente, o objetivo da equipa de trabalho seria usar uma estratégia de cifra \"lightweight\", na qual seria desenvolvido um tweak  concatenado com a chave de longa duração. Este tweak iria ser constituído por um nounce único, ocupando BLOCKLEN/2 do seu tamanho total e pelo tamanho da mensagem total pretendida."
   ]
  },
  {
   "cell_type": "code",
   "execution_count": 24,
   "metadata": {},
   "outputs": [
    {
     "name": "stdout",
     "output_type": "stream",
     "text": [
      "key = b\"\\x92\\xf8R\\x80\\x84|\\x01,5\\xbf'0\\xdc\\x10$\\x9f\"\n",
      "\n",
      "enc(b'00000000000000000000000000000000000000000000000000000000000000000000000000000000000000000000000000000000000000000000000000000000000000000000000000000000000000000000000000000000000000000000000000000000000000000000000000000000000000000000000000000000000000000000000000000000000000000000000000000000000000000000000000000000000000000000000000000000000000000000000000000000000000000000000000000000000000000000000000000000000000000000000000000000000000000000000000000000000000000000000000000000000000000000000000000000') = b'4a4a5f037ed7754cdbd945a67519d587fb8f9ed499e90dd60f6258ba50dc9897c595d554f2e2c08fa25e4d15ccbaa8616820897572fc398a82f7e5b2f9635f8e5a5bfc823309680c68de2e97d8d295c49eda2d667c05c0633df36da4612a5141e1ab603c5bfef29e807b39509438f38c68e34c52d7acca00b427d06764cf96ad2f16140f714ea89953515a0d4c76c4bdef626fafca34faa4fe560017e15c30f724bd40b9cfeb5fb1df200d30b14f351b1439fc39c23901bb310a1344dabc48f9ededb1c80fa08829a3ec2aa83c01d7165c58ff8f499533ddfc2f9bb218cb2ed3608b90b18a6f74d763d83f9cf84a695eed00e1ed6fa46682001ece2601875098 dd0cca0799f337845fd6ddb36165918a' \n",
      "\n",
      "dec(b'4a4a5f037ed7754cdbd945a67519d587fb8f9ed499e90dd60f6258ba50dc9897c595d554f2e2c08fa25e4d15ccbaa8616820897572fc398a82f7e5b2f9635f8e5a5bfc823309680c68de2e97d8d295c49eda2d667c05c0633df36da4612a5141e1ab603c5bfef29e807b39509438f38c68e34c52d7acca00b427d06764cf96ad2f16140f714ea89953515a0d4c76c4bdef626fafca34faa4fe560017e15c30f724bd40b9cfeb5fb1df200d30b14f351b1439fc39c23901bb310a1344dabc48f9ededb1c80fa08829a3ec2aa83c01d7165c58ff8f499533ddfc2f9bb218cb2ed3608b90b18a6f74d763d83f9cf84a695eed00e1ed6fa46682001ece2601875098 dd0cca0799f337845fd6ddb36165918a') = b'00000000000000000000000000000000000000000000000000000000000000000000000000000000000000000000000000000000000000000000000000000000000000000000000000000000000000000000000000000000000000000000000000000000000000000000000000000000000000000000000000000000000000000000000000000000000000000000000000000000000000000000000000000000000000000000000000000000000000000000000000000000000000000000000000000000000000000000000000000000000000000000000000000000000000000000000000000000000000000000000000000000000000000000000000000000' \n",
      "\n"
     ]
    }
   ],
   "source": [
    "import os\n",
    "from cryptography.hazmat.primitives.ciphers.aead import AESGCM\n",
    "from binascii import hexlify as hexa\n",
    "from os import urandom\n",
    "BLOCKLEN = 256\n",
    "def blocks(data):\n",
    "    split = [hexa(data[i:i+BLOCKLEN]) for i in range(0, len(data), BLOCKLEN)]\n",
    "    return b' '.join(split)\n",
    "\n",
    "\n",
    "nonce = os.urandom(16)\n",
    "message = b'\\x00'*BLOCKLEN\n",
    "message_authenticated = b'\\x00'\n",
    "key = AESGCM.generate_key(bit_length=256)\n",
    "print (\"key = %s\\n\" % k)\n",
    "\n",
    "aes = AESGCM(key)\n",
    "c = aes.encrypt(nonce,message,message_authenticated)\n",
    "\n",
    "print(\"enc(%s) = %s \\n\" % (blocks(message), blocks(c)))\n",
    "\n",
    "d = aes.decrypt(nonce,c,message_authenticated)\n",
    "\n",
    "print(\"dec(%s) = %s \\n\" % (blocks(c), blocks(d)))\n",
    "\n",
    "\n",
    "#nounceList = []\n",
    "#b = 256 #tamanho de cada bloco\n",
    "\n",
    "#def generate_tweak():\n",
    "    #gerar o nonce\n",
    "    #nonce = nounceGenerator\n",
    "    \n",
    "    #return nonce+(128).tobytes(128,'big')\n",
    "\n",
    "\n",
    "# função que gera nounces únicos\n",
    "#def nounceGenerator():\n",
    "#    nounce = os.urandom(128) #b/2 = 128\n",
    "#    if not (nounce in nounceList):\n",
    "#        nounceList.append(nounce)\n",
    "#        return nounce\n",
    "#    else:\n",
    "#        nounceGenerator()\n"
   ]
  }
 ],
 "metadata": {
  "kernelspec": {
   "display_name": "Python 3",
   "language": "python",
   "name": "python3"
  },
  "language_info": {
   "codemirror_mode": {
    "name": "ipython",
    "version": 3
   },
   "file_extension": ".py",
   "mimetype": "text/x-python",
   "name": "python",
   "nbconvert_exporter": "python",
   "pygments_lexer": "ipython3",
   "version": "3.7.10"
  }
 },
 "nbformat": 4,
 "nbformat_minor": 5
}
